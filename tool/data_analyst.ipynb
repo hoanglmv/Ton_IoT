{
 "cells": [
  {
   "cell_type": "code",
   "execution_count": 41,
   "metadata": {},
   "outputs": [],
   "source": [
    "import pandas as pd\n",
    "\n"
   ]
  },
  {
   "cell_type": "code",
   "execution_count": 42,
   "id": "e6de5e8d",
   "metadata": {},
   "outputs": [
    {
     "name": "stdout",
     "output_type": "stream",
     "text": [
      "(461043, 45)\n",
      "           ts         src_ip  src_port         dst_ip  dst_port proto service  \\\n",
      "0  1554198358    3.122.49.24      1883  192.168.1.152     52976   tcp       -   \n",
      "1  1554198358   192.168.1.79     47260  192.168.1.255     15600   udp       -   \n",
      "2  1554198359  192.168.1.152      1880  192.168.1.152     51782   tcp       -   \n",
      "3  1554198359  192.168.1.152     34296  192.168.1.152     10502   tcp       -   \n",
      "4  1554198362  192.168.1.152     46608  192.168.1.190        53   udp     dns   \n",
      "5  1554198364   192.168.1.79     33269  192.168.1.255     15600   udp       -   \n",
      "6  1554198364  192.168.1.152     34296  192.168.1.152     10502   tcp       -   \n",
      "7  1554198364  192.168.1.152      1880  192.168.1.152     51782   tcp       -   \n",
      "8  1554198369  192.168.1.152      1880  192.168.1.152     51782   tcp       -   \n",
      "9  1554198369  192.168.1.152     34296  192.168.1.152     10502   tcp       -   \n",
      "\n",
      "       duration  src_bytes  dst_bytes conn_state  missed_bytes  src_pkts  \\\n",
      "0  80549.530260    1762852   41933215        OTH             0    252181   \n",
      "1      0.000000          0          0         S0             0         1   \n",
      "2      0.000000          0          0        OTH             0         0   \n",
      "3      0.000000          0          0        OTH             0         0   \n",
      "4      0.000549          0        298        SHR             0         0   \n",
      "5      0.000000          0          0         S0             0         1   \n",
      "6      0.000000          0          0        OTH             0         0   \n",
      "7      0.000000          0          0        OTH             0         0   \n",
      "8      0.000000          0          0        OTH             0         0   \n",
      "9      0.000000          0          0        OTH             0         0   \n",
      "\n",
      "   src_ip_bytes  dst_pkts  dst_ip_bytes dns_query  dns_qclass  dns_qtype  \\\n",
      "0      14911156         2           236         -           0          0   \n",
      "1            63         0             0         -           0          0   \n",
      "2             0         0             0         -           0          0   \n",
      "3             0         0             0         -           0          0   \n",
      "4             0         2           354         -           0          0   \n",
      "5            63         0             0         -           0          0   \n",
      "6             0         0             0         -           0          0   \n",
      "7             0         0             0         -           0          0   \n",
      "8             0         0             0         -           0          0   \n",
      "9             0         0             0         -           0          0   \n",
      "\n",
      "   dns_rcode dns_AA dns_RD dns_RA dns_rejected ssl_version ssl_cipher  \\\n",
      "0          0      -      -      -            -           -          -   \n",
      "1          0      -      -      -            -           -          -   \n",
      "2          0      -      -      -            -           -          -   \n",
      "3          0      -      -      -            -           -          -   \n",
      "4          0      -      -      -            -           -          -   \n",
      "5          0      -      -      -            -           -          -   \n",
      "6          0      -      -      -            -           -          -   \n",
      "7          0      -      -      -            -           -          -   \n",
      "8          0      -      -      -            -           -          -   \n",
      "9          0      -      -      -            -           -          -   \n",
      "\n",
      "  ssl_resumed ssl_established ssl_subject ssl_issuer http_trans_depth  \\\n",
      "0           -               -           -          -                -   \n",
      "1           -               -           -          -                -   \n",
      "2           -               -           -          -                -   \n",
      "3           -               -           -          -                -   \n",
      "4           -               -           -          -                -   \n",
      "5           -               -           -          -                -   \n",
      "6           -               -           -          -                -   \n",
      "7           -               -           -          -                -   \n",
      "8           -               -           -          -                -   \n",
      "9           -               -           -          -                -   \n",
      "\n",
      "  http_method http_uri http_version  http_request_body_len  \\\n",
      "0           -        -            -                      0   \n",
      "1           -        -            -                      0   \n",
      "2           -        -            -                      0   \n",
      "3           -        -            -                      0   \n",
      "4           -        -            -                      0   \n",
      "5           -        -            -                      0   \n",
      "6           -        -            -                      0   \n",
      "7           -        -            -                      0   \n",
      "8           -        -            -                      0   \n",
      "9           -        -            -                      0   \n",
      "\n",
      "   http_response_body_len  http_status_code http_user_agent  \\\n",
      "0                       0                 0               -   \n",
      "1                       0                 0               -   \n",
      "2                       0                 0               -   \n",
      "3                       0                 0               -   \n",
      "4                       0                 0               -   \n",
      "5                       0                 0               -   \n",
      "6                       0                 0               -   \n",
      "7                       0                 0               -   \n",
      "8                       0                 0               -   \n",
      "9                       0                 0               -   \n",
      "\n",
      "  http_orig_mime_types http_resp_mime_types        weird_name weird_addl  \\\n",
      "0                    -                    -  bad_TCP_checksum          -   \n",
      "1                    -                    -                 -          -   \n",
      "2                    -                    -  bad_TCP_checksum          -   \n",
      "3                    -                    -                 -          -   \n",
      "4                    -                    -  bad_UDP_checksum          -   \n",
      "5                    -                    -                 -          -   \n",
      "6                    -                    -                 -          -   \n",
      "7                    -                    -                 -          -   \n",
      "8                    -                    -                 -          -   \n",
      "9                    -                    -                 -          -   \n",
      "\n",
      "  weird_notice  label    type  \n",
      "0            F      0  normal  \n",
      "1            -      0  normal  \n",
      "2            F      0  normal  \n",
      "3            -      0  normal  \n",
      "4            F      0  normal  \n",
      "5            -      0  normal  \n",
      "6            -      0  normal  \n",
      "7            -      0  normal  \n",
      "8            -      0  normal  \n",
      "9            -      0  normal  \n"
     ]
    }
   ],
   "source": [
    "df = pd.read_csv(\"Ton_IoT_Network.csv\")\n",
    "print(df.shape)\n",
    "print(df.head(10))\n"
   ]
  },
  {
   "cell_type": "code",
   "execution_count": 43,
   "id": "2b96e9c1",
   "metadata": {},
   "outputs": [],
   "source": [
    "\n",
    "\n",
    "# Loại bỏ dòng trùng\n",
    "df = df.drop_duplicates()\n",
    "\n",
    "# Xóa giá trị thiếu hoàn toàn\n",
    "df = df.dropna(how='all')\n",
    "\n",
    "# Thay thế dấu \"-\" (ý là không có dữ liệu)\n",
    "df = df.replace('-', pd.NA)\n"
   ]
  },
  {
   "cell_type": "code",
   "execution_count": 44,
   "id": "af109fe6",
   "metadata": {},
   "outputs": [
    {
     "name": "stdout",
     "output_type": "stream",
     "text": [
      "(449972, 45)\n"
     ]
    }
   ],
   "source": [
    "print(df.shape)"
   ]
  },
  {
   "cell_type": "code",
   "execution_count": 45,
   "id": "fae6843d",
   "metadata": {},
   "outputs": [],
   "source": [
    "cols_to_drop = [\n",
    "    'src_ip', 'dst_ip', 'ssl_subject', 'ssl_issuer', \n",
    "    'weird_addl', 'weird_name', 'weird_notice', \n",
    "    'dns_query'\n",
    "]\n",
    "df = df.drop(columns=cols_to_drop, errors='ignore')\n"
   ]
  },
  {
   "cell_type": "code",
   "execution_count": 46,
   "id": "644c4068",
   "metadata": {},
   "outputs": [
    {
     "name": "stdout",
     "output_type": "stream",
     "text": [
      "(449972, 37)\n"
     ]
    }
   ],
   "source": [
    "print(df.shape)"
   ]
  },
  {
   "cell_type": "code",
   "execution_count": 47,
   "id": "3a478b26",
   "metadata": {},
   "outputs": [],
   "source": [
    "df['ts'] = pd.to_datetime(df['ts'], unit='s')  # chuyển timestamp thành datetime\n",
    "df['hour'] = df['ts'].dt.hour\n",
    "df['day'] = df['ts'].dt.day\n",
    "df = df.drop(columns=['ts'])\n"
   ]
  },
  {
   "cell_type": "code",
   "execution_count": 48,
   "id": "27820494",
   "metadata": {},
   "outputs": [
    {
     "name": "stdout",
     "output_type": "stream",
     "text": [
      "Index(['proto', 'service', 'conn_state', 'dns_AA', 'dns_RD', 'dns_RA',\n",
      "       'dns_rejected', 'ssl_version', 'ssl_cipher', 'ssl_resumed',\n",
      "       'ssl_established', 'http_trans_depth', 'http_method', 'http_uri',\n",
      "       'http_version', 'http_user_agent', 'http_orig_mime_types',\n",
      "       'http_resp_mime_types', 'type'],\n",
      "      dtype='object')\n"
     ]
    }
   ],
   "source": [
    "cat_cols = df.select_dtypes(include='object').columns\n",
    "print(cat_cols)\n"
   ]
  },
  {
   "cell_type": "code",
   "execution_count": 49,
   "id": "bffb8fc3",
   "metadata": {},
   "outputs": [],
   "source": [
    "from sklearn.preprocessing import LabelEncoder\n",
    "\n",
    "le = LabelEncoder()\n",
    "for col in cat_cols:\n",
    "    df[col] = le.fit_transform(df[col].astype(str))\n"
   ]
  },
  {
   "cell_type": "code",
   "execution_count": 50,
   "id": "6e7bbba7",
   "metadata": {},
   "outputs": [],
   "source": [
    "from sklearn.preprocessing import StandardScaler\n",
    "\n",
    "num_cols = df.select_dtypes(include=['int64', 'float64']).columns\n",
    "scaler = StandardScaler()\n",
    "df[num_cols] = scaler.fit_transform(df[num_cols])\n"
   ]
  },
  {
   "cell_type": "code",
   "execution_count": 51,
   "id": "16874fd3",
   "metadata": {},
   "outputs": [],
   "source": [
    "from sklearn.model_selection import train_test_split\n",
    "\n",
    "X = df.drop(columns=['label', 'type'])  # input features\n",
    "y = df['label']                         # target\n",
    "\n",
    "X_train, X_test, y_train, y_test = train_test_split(\n",
    "    X, y, test_size=0.2, random_state=42, stratify=y\n",
    ")\n"
   ]
  },
  {
   "cell_type": "code",
   "execution_count": 52,
   "id": "e5bc0ac3",
   "metadata": {},
   "outputs": [
    {
     "data": {
      "text/plain": [
       "label\n",
       "-0.746578    0.642104\n",
       " 1.339444    0.357896\n",
       "Name: proportion, dtype: float64"
      ]
     },
     "execution_count": 52,
     "metadata": {},
     "output_type": "execute_result"
    }
   ],
   "source": [
    "y.value_counts(normalize=True)\n"
   ]
  },
  {
   "cell_type": "code",
   "execution_count": null,
   "id": "b274fd82",
   "metadata": {},
   "outputs": [],
   "source": [
    "processed = pd.concat([X, y], axis=1)\n",
    "processed.to_csv(\"Ton_IoT_Network_processed.csv\", index=False)\n"
   ]
  }
 ],
 "metadata": {
  "kernelspec": {
   "display_name": "Python 3",
   "language": "python",
   "name": "python3"
  },
  "language_info": {
   "codemirror_mode": {
    "name": "ipython",
    "version": 3
   },
   "file_extension": ".py",
   "mimetype": "text/x-python",
   "name": "python",
   "nbconvert_exporter": "python",
   "pygments_lexer": "ipython3",
   "version": "3.10.6"
  }
 },
 "nbformat": 4,
 "nbformat_minor": 5
}
