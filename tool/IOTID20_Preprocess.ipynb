{
 "cells": [
  {
   "cell_type": "code",
   "execution_count": 6,
   "id": "f9a6568f",
   "metadata": {},
   "outputs": [],
   "source": [
    "import pandas as pd\n",
    "import numpy as np\n"
   ]
  },
  {
   "cell_type": "code",
   "execution_count": 7,
   "id": "4f20329f",
   "metadata": {},
   "outputs": [
    {
     "name": "stdout",
     "output_type": "stream",
     "text": [
      "D:/vhproj/Ton_IoT\\data\\IoT ID20\\IoT Network Intrusion Dataset.csv\n"
     ]
    }
   ],
   "source": [
    "import os\n",
    "\n",
    "root_dir = \"D:/vhproj/Ton_IoT\"\n",
    "datadir = \"data\\IoT ID20\\IoT Network Intrusion Dataset.csv\"\n",
    "\n",
    "path = os.path.join(root_dir, datadir)\n",
    "\n",
    "print(path)\n"
   ]
  },
  {
   "cell_type": "code",
   "execution_count": 8,
   "id": "1c9d6273",
   "metadata": {},
   "outputs": [],
   "source": [
    "# Read data and cleaning\n",
    "df = pd.read_csv(path)\n",
    "df.replace('-', np.nan, inplace=True)\n",
    "for c in df.select_dtypes(include=['object']).columns:\n",
    "    df[c] = df[c].astype(str).str.strip()\n",
    "\n"
   ]
  },
  {
   "cell_type": "code",
   "execution_count": 9,
   "id": "bafbe43d",
   "metadata": {},
   "outputs": [
    {
     "name": "stdout",
     "output_type": "stream",
     "text": [
      "Index(['Flow_ID', 'Src_IP', 'Src_Port', 'Dst_IP', 'Dst_Port', 'Protocol',\n",
      "       'Timestamp', 'Flow_Duration', 'Tot_Fwd_Pkts', 'Tot_Bwd_Pkts',\n",
      "       'TotLen_Fwd_Pkts', 'TotLen_Bwd_Pkts', 'Fwd_Pkt_Len_Max',\n",
      "       'Fwd_Pkt_Len_Min', 'Fwd_Pkt_Len_Mean', 'Fwd_Pkt_Len_Std',\n",
      "       'Bwd_Pkt_Len_Max', 'Bwd_Pkt_Len_Min', 'Bwd_Pkt_Len_Mean',\n",
      "       'Bwd_Pkt_Len_Std', 'Flow_Byts/s', 'Flow_Pkts/s', 'Flow_IAT_Mean',\n",
      "       'Flow_IAT_Std', 'Flow_IAT_Max', 'Flow_IAT_Min', 'Fwd_IAT_Tot',\n",
      "       'Fwd_IAT_Mean', 'Fwd_IAT_Std', 'Fwd_IAT_Max', 'Fwd_IAT_Min',\n",
      "       'Bwd_IAT_Tot', 'Bwd_IAT_Mean', 'Bwd_IAT_Std', 'Bwd_IAT_Max',\n",
      "       'Bwd_IAT_Min', 'Fwd_PSH_Flags', 'Bwd_PSH_Flags', 'Fwd_URG_Flags',\n",
      "       'Bwd_URG_Flags', 'Fwd_Header_Len', 'Bwd_Header_Len', 'Fwd_Pkts/s',\n",
      "       'Bwd_Pkts/s', 'Pkt_Len_Min', 'Pkt_Len_Max', 'Pkt_Len_Mean',\n",
      "       'Pkt_Len_Std', 'Pkt_Len_Var', 'FIN_Flag_Cnt', 'SYN_Flag_Cnt',\n",
      "       'RST_Flag_Cnt', 'PSH_Flag_Cnt', 'ACK_Flag_Cnt', 'URG_Flag_Cnt',\n",
      "       'CWE_Flag_Count', 'ECE_Flag_Cnt', 'Down/Up_Ratio', 'Pkt_Size_Avg',\n",
      "       'Fwd_Seg_Size_Avg', 'Bwd_Seg_Size_Avg', 'Fwd_Byts/b_Avg',\n",
      "       'Fwd_Pkts/b_Avg', 'Fwd_Blk_Rate_Avg', 'Bwd_Byts/b_Avg',\n",
      "       'Bwd_Pkts/b_Avg', 'Bwd_Blk_Rate_Avg', 'Subflow_Fwd_Pkts',\n",
      "       'Subflow_Fwd_Byts', 'Subflow_Bwd_Pkts', 'Subflow_Bwd_Byts',\n",
      "       'Init_Fwd_Win_Byts', 'Init_Bwd_Win_Byts', 'Fwd_Act_Data_Pkts',\n",
      "       'Fwd_Seg_Size_Min', 'Active_Mean', 'Active_Std', 'Active_Max',\n",
      "       'Active_Min', 'Idle_Mean', 'Idle_Std', 'Idle_Max', 'Idle_Min', 'Label',\n",
      "       'Cat', 'Sub_Cat'],\n",
      "      dtype='object')\n"
     ]
    }
   ],
   "source": [
    "print(df.columns)\n"
   ]
  },
  {
   "cell_type": "code",
   "execution_count": 10,
   "id": "a0e0bb9d",
   "metadata": {},
   "outputs": [
    {
     "name": "stdout",
     "output_type": "stream",
     "text": [
      "53817338\n",
      "(625783, 86)\n",
      "                                     Flow_ID           Src_IP  Src_Port  \\\n",
      "0   192.168.0.13-192.168.0.16-10000-10101-17     192.168.0.13     10000   \n",
      "1    192.168.0.13-222.160.179.132-554-2179-6  222.160.179.132      2179   \n",
      "2     192.168.0.13-192.168.0.16-9020-52727-6     192.168.0.16     52727   \n",
      "3     192.168.0.13-192.168.0.16-9020-52964-6     192.168.0.16     52964   \n",
      "4  192.168.0.1-239.255.255.250-36763-1900-17      192.168.0.1     36763   \n",
      "\n",
      "            Dst_IP  Dst_Port  Protocol               Timestamp  Flow_Duration  \\\n",
      "0     192.168.0.16     10101        17  25/07/2019 03:25:53 AM             75   \n",
      "1     192.168.0.13       554         6  26/05/2019 10:11:06 PM           5310   \n",
      "2     192.168.0.13      9020         6  11/07/2019 01:24:48 AM            141   \n",
      "3     192.168.0.13      9020         6  04/09/2019 03:58:17 AM            151   \n",
      "4  239.255.255.250      1900        17  10/09/2019 01:41:18 AM            153   \n",
      "\n",
      "   Tot_Fwd_Pkts  Tot_Bwd_Pkts  ...  Active_Std  Active_Max  Active_Min  \\\n",
      "0             1             1  ...         0.0         0.0         0.0   \n",
      "1             1             2  ...         0.0         0.0         0.0   \n",
      "2             0             3  ...         0.0         0.0         0.0   \n",
      "3             0             2  ...         0.0         0.0         0.0   \n",
      "4             2             1  ...         0.0         0.0         0.0   \n",
      "\n",
      "   Idle_Mean     Idle_Std  Idle_Max  Idle_Min    Label    Cat  \\\n",
      "0       75.0     0.000000      75.0      75.0  Anomaly  Mirai   \n",
      "1     2655.0  2261.327486    4254.0    1056.0  Anomaly    DoS   \n",
      "2       70.5     0.707107      71.0      70.0  Anomaly   Scan   \n",
      "3      151.0     0.000000     151.0     151.0  Anomaly  Mirai   \n",
      "4       76.5     0.707107      77.0      76.0  Anomaly  Mirai   \n",
      "\n",
      "                 Sub_Cat  \n",
      "0      Mirai-Ackflooding  \n",
      "1        DoS-Synflooding  \n",
      "2           Scan Port OS  \n",
      "3  Mirai-Hostbruteforceg  \n",
      "4  Mirai-Hostbruteforceg  \n",
      "\n",
      "[5 rows x 86 columns]\n"
     ]
    }
   ],
   "source": [
    "# Kích thước của DataFrame (số phần tử)\n",
    "print(df.size)\n",
    "\n",
    "# Hoặc nếu bạn muốn biết số hàng và số cột:\n",
    "print(df.shape)   # (rows, columns)\n",
    "\n",
    "# Hiển thị 5 dòng đầu tiên\n",
    "print(df.head(5))\n"
   ]
  },
  {
   "cell_type": "code",
   "execution_count": 12,
   "id": "5de5d625",
   "metadata": {},
   "outputs": [
    {
     "data": {
      "image/png": "[encoded data removed]",
      "text/plain": [
       "<Figure size 500x400 with 1 Axes>"
      ]
     },
     "metadata": {},
     "output_type": "display_data"
    }
   ],
   "source": [
    "import matplotlib.pyplot as plt\n",
    "\n",
    "plt.figure(figsize=(5,4))\n",
    "df['Label'].value_counts().plot(kind='bar', color=['#4CAF50', '#F44336'])\n",
    "plt.title('Phân bố nhãn Label (0 = Normal, 1 = Attack)')\n",
    "plt.xlabel('Label')\n",
    "plt.ylabel('Số lượng mẫu')\n",
    "plt.xticks(rotation=0)\n",
    "plt.grid(axis='y', linestyle='--', alpha=0.7)\n",
    "plt.show()\n"
   ]
  },
  {
   "cell_type": "code",
   "execution_count": null,
   "id": "c7590ac6",
   "metadata": {},
   "outputs": [],
   "source": [
    "plt.figure(figsize=(10,5))\n",
    "df['Attack_type'].value_counts().plot(kind='bar', color='skyblue')\n",
    "plt.title('Phân bố các loại tấn công (Type)')\n",
    "plt.xlabel('Loại tấn công')\n",
    "plt.ylabel('Số lượng mẫu')\n",
    "plt.xticks(rotation=45, ha='right')\n",
    "plt.grid(axis='y', linestyle='--', alpha=0.7)\n",
    "plt.tight_layout()\n",
    "plt.show()\n"
   ]
  }
 ],
 "metadata": {
  "kernelspec": {
   "display_name": "Python 3",
   "language": "python",
   "name": "python3"
  },
  "language_info": {
   "codemirror_mode": {
    "name": "ipython",
    "version": 3
   },
   "file_extension": ".py",
   "mimetype": "text/x-python",
   "name": "python",
   "nbconvert_exporter": "python",
   "pygments_lexer": "ipython3",
   "version": "3.10.6"
  }
 },
 "nbformat": 4,
 "nbformat_minor": 5
}
