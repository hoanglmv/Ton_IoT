{
 "cells": [
  {
   "cell_type": "code",
<<<<<<< HEAD
   "execution_count": 1,
=======
   "execution_count": 17,
>>>>>>> 56cb30560f1ab5d469fb4c5dd8143c896bb50e80
   "id": "e16b5970",
   "metadata": {},
   "outputs": [],
   "source": [
    "import numpy as np\n",
    "import pandas as pd"
   ]
  },
  {
   "cell_type": "code",
<<<<<<< HEAD
   "execution_count": 2,
=======
   "execution_count": 18,
>>>>>>> 56cb30560f1ab5d469fb4c5dd8143c896bb50e80
   "id": "ff8c8c2e",
   "metadata": {},
   "outputs": [
    {
     "name": "stdout",
     "output_type": "stream",
     "text": [
      "D:/vhproj/Ton_IoT\\data/TON/train_test_network.csv\n"
     ]
    }
   ],
   "source": [
    "import os\n",
    "\n",
    "root_dir = \"D:/vhproj/Ton_IoT\"\n",
    "datadir = \"data/TON/train_test_network.csv\"\n",
    "\n",
    "path = os.path.join(root_dir, datadir)\n",
    "\n",
    "print(path)\n"
   ]
  },
  {
   "cell_type": "code",
<<<<<<< HEAD
   "execution_count": 3,
=======
   "execution_count": 19,
>>>>>>> 56cb30560f1ab5d469fb4c5dd8143c896bb50e80
   "id": "32fe66b2",
   "metadata": {},
   "outputs": [],
   "source": [
    "# Read data and cleaning\n",
    "df = pd.read_csv(path)\n",
    "df.replace('-', np.nan, inplace=True)\n",
    "for c in df.select_dtypes(include=['object']).columns:\n",
    "    df[c] = df[c].astype(str).str.strip()\n"
   ]
  },
  {
   "cell_type": "code",
<<<<<<< HEAD
   "execution_count": 4,
=======
   "execution_count": 20,
>>>>>>> 56cb30560f1ab5d469fb4c5dd8143c896bb50e80
   "id": "43cb457c",
   "metadata": {},
   "outputs": [
    {
     "name": "stdout",
     "output_type": "stream",
     "text": [
      "Index(['src_ip', 'src_port', 'dst_ip', 'dst_port', 'proto', 'service',\n",
      "       'duration', 'src_bytes', 'dst_bytes', 'conn_state', 'missed_bytes',\n",
      "       'src_pkts', 'src_ip_bytes', 'dst_pkts', 'dst_ip_bytes', 'dns_query',\n",
      "       'dns_qclass', 'dns_qtype', 'dns_rcode', 'dns_AA', 'dns_RD', 'dns_RA',\n",
      "       'dns_rejected', 'ssl_version', 'ssl_cipher', 'ssl_resumed',\n",
      "       'ssl_established', 'ssl_subject', 'ssl_issuer', 'http_trans_depth',\n",
      "       'http_method', 'http_uri', 'http_version', 'http_request_body_len',\n",
      "       'http_response_body_len', 'http_status_code', 'http_user_agent',\n",
      "       'http_orig_mime_types', 'http_resp_mime_types', 'weird_name',\n",
      "       'weird_addl', 'weird_notice', 'label', 'type'],\n",
      "      dtype='object')\n"
     ]
    }
   ],
   "source": [
    "print(df.columns)\n"
   ]
  },
  {
   "cell_type": "code",
<<<<<<< HEAD
   "execution_count": 5,
=======
   "execution_count": 21,
>>>>>>> 56cb30560f1ab5d469fb4c5dd8143c896bb50e80
   "id": "ed0c3169",
   "metadata": {},
   "outputs": [],
   "source": [
    "useful_cols = [\n",
    "    'proto', 'service', 'conn_state',\n",
    "    'duration', 'src_bytes', 'dst_bytes', 'missed_bytes',\n",
    "    'src_pkts', 'dst_pkts', 'src_ip_bytes', 'dst_ip_bytes',\n",
    "    'dns_qclass', 'dns_qtype', 'dns_rcode', 'dns_AA', 'dns_RD', 'dns_RA', 'dns_rejected',\n",
    "    'ssl_version', 'ssl_cipher', 'ssl_resumed', 'ssl_established',\n",
    "    'http_trans_depth', 'http_method', 'http_request_body_len',\n",
    "    'http_response_body_len', 'http_status_code', 'http_version',\n",
    "    'weird_name'\n",
    "]\n",
    "target_col = 'type'\n",
    "\n"
   ]
  },
  {
   "cell_type": "code",
<<<<<<< HEAD
   "execution_count": 6,
=======
   "execution_count": 22,
>>>>>>> 56cb30560f1ab5d469fb4c5dd8143c896bb50e80
   "id": "f9b8503a",
   "metadata": {},
   "outputs": [
    {
     "name": "stdout",
     "output_type": "stream",
     "text": [
      "Kích thước dữ liệu: (161043, 30)\n",
      "Các cột có trong df_cls: ['proto', 'service', 'conn_state', 'duration', 'src_bytes', 'dst_bytes', 'missed_bytes', 'src_pkts', 'dst_pkts', 'src_ip_bytes', 'dst_ip_bytes', 'dns_qclass', 'dns_qtype', 'dns_rcode', 'dns_AA', 'dns_RD', 'dns_RA', 'dns_rejected', 'ssl_version', 'ssl_cipher', 'ssl_resumed', 'ssl_established', 'http_trans_depth', 'http_method', 'http_request_body_len', 'http_response_body_len', 'http_status_code', 'http_version', 'weird_name', 'type']\n",
      "type\n",
      "backdoor      20000\n",
      "ddos          20000\n",
      "dos           20000\n",
      "injection     20000\n",
      "password      20000\n",
      "scanning      20000\n",
      "ransomware    20000\n",
      "xss           20000\n",
      "mitm           1043\n",
      "Name: count, dtype: int64\n"
     ]
    }
   ],
   "source": [
    "# Chọn các cột cần thiết + cột nhãn\n",
    "df_cls = df[useful_cols + [target_col]]\n",
    "df_cls = df_cls[df_cls[target_col] != \"normal\"]\n",
    "# Kiểm tra nhanh\n",
    "print(\"Kích thước dữ liệu:\", df_cls.shape)\n",
    "print(\"Các cột có trong df_cls:\", df_cls.columns.tolist())\n",
    "print(df_cls[target_col].value_counts())\n"
   ]
  },
  {
   "cell_type": "code",
<<<<<<< HEAD
   "execution_count": 7,
=======
   "execution_count": 23,
>>>>>>> 56cb30560f1ab5d469fb4c5dd8143c896bb50e80
   "id": "469d27fd",
   "metadata": {},
   "outputs": [
    {
     "name": "stdout",
     "output_type": "stream",
     "text": [
      "Accuracy: 0.9702567605327703\n",
      "Confusion matrix:\n",
      " [[3997    0    0    1    0    0    0    0    2]\n",
      " [   0 3894    2   25    0    5   39    0   35]\n",
      " [   0    0 3926    7   28    5    1   30    3]\n",
      " [   0   33    8 3866    3    5    4   13   68]\n",
      " [   0    1   14   10  167   10    1    2    4]\n",
      " [   0    3    9    1   18 3898   47    4   20]\n",
      " [   0    0    0    0    0    0 3920    0   80]\n",
      " [   0    0   21    8    5    7    2 3957    0]\n",
      " [   0   18    1   80    3    5  267    0 3626]]\n",
      "              precision    recall  f1-score   support\n",
      "\n",
      "    backdoor       1.00      1.00      1.00      4000\n",
      "        ddos       0.99      0.97      0.98      4000\n",
      "         dos       0.99      0.98      0.98      4000\n",
      "   injection       0.97      0.97      0.97      4000\n",
      "        mitm       0.75      0.80      0.77       209\n",
      "    password       0.99      0.97      0.98      4000\n",
      "  ransomware       0.92      0.98      0.95      4000\n",
      "    scanning       0.99      0.99      0.99      4000\n",
      "         xss       0.94      0.91      0.93      4000\n",
      "\n",
      "    accuracy                           0.97     32209\n",
      "   macro avg       0.95      0.95      0.95     32209\n",
      "weighted avg       0.97      0.97      0.97     32209\n",
      "\n"
     ]
    }
   ],
   "source": [
    "# Encode target labels\n",
    "from sklearn.preprocessing import LabelEncoder\n",
    "from sklearn.model_selection import train_test_split\n",
    "from sklearn.ensemble import RandomForestClassifier\n",
    "from sklearn.metrics import classification_report, confusion_matrix, accuracy_score\n",
    "\n",
    "le = LabelEncoder()\n",
    "df_cls['label_encoded'] = le.fit_transform(df_cls[target_col])\n",
    "\n",
    "# Encode ALL features as string before LabelEncoder (to avoid mixed types)\n",
    "X = df_cls[useful_cols].copy()\n",
    "for col in X.columns:\n",
    "    X[col] = LabelEncoder().fit_transform(X[col].astype(str))\n",
    "\n",
    "y = df_cls['label_encoded']\n",
    "\n",
    "# Xử lý missing values (nếu có)\n",
    "X = X.fillna(-1)\n",
    "\n",
    "# Chia tập train/test\n",
    "X_train, X_test, y_train, y_test = train_test_split(\n",
    "    X, y, test_size=0.2, random_state=42, stratify=y\n",
    ")\n",
    "\n",
    "# Huấn luyện mô hình Random Forest\n",
    "clf = RandomForestClassifier(n_estimators=200, random_state=42, n_jobs=-1)\n",
    "clf.fit(X_train, y_train)\n",
    "\n",
    "# Dự đoán và đánh giá\n",
    "y_pred = clf.predict(X_test)\n",
    "print('Accuracy:', accuracy_score(y_test, y_pred))\n",
    "print('Confusion matrix:\\n', confusion_matrix(y_test, y_pred))\n",
    "print(classification_report(y_test, y_pred, target_names=le.classes_))"
   ]
<<<<<<< HEAD
  },
  {
   "cell_type": "code",
   "execution_count": 8,
   "id": "c87192e1",
   "metadata": {},
   "outputs": [
    {
     "name": "stdout",
     "output_type": "stream",
     "text": [
      "Đã lưu mô hình tại: D:/vhproj/Ton_IoT\\models\\random_forest_ton_iot.joblib\n",
      "Đã lưu LabelEncoder tại: D:/vhproj/Ton_IoT\\models\\label_encoder_ton_iot.joblib\n"
     ]
    }
   ],
   "source": [
    "# Lưu mô hình và LabelEncoder\n",
    "import joblib\n",
    "import os\n",
    "\n",
    "# Tạo thư mục để lưu mô hình nếu chưa tồn tại\n",
    "model_dir = os.path.join(root_dir, 'models')\n",
    "os.makedirs(model_dir, exist_ok=True)\n",
    "\n",
    "# Lưu mô hình Random Forest\n",
    "model_path = os.path.join(model_dir, 'random_forest_ton_iot.joblib')\n",
    "joblib.dump(clf, model_path)\n",
    "\n",
    "# Lưu LabelEncoder để dùng cho việc transform dữ liệu mới\n",
    "encoder_path = os.path.join(model_dir, 'label_encoder_ton_iot.joblib')\n",
    "joblib.dump(le, encoder_path)\n",
    "\n",
    "print(f'Đã lưu mô hình tại: {model_path}')\n",
    "print(f'Đã lưu LabelEncoder tại: {encoder_path}')"
   ]
=======
>>>>>>> 56cb30560f1ab5d469fb4c5dd8143c896bb50e80
  }
 ],
 "metadata": {
  "kernelspec": {
   "display_name": "Python 3",
   "language": "python",
   "name": "python3"
  },
  "language_info": {
   "codemirror_mode": {
    "name": "ipython",
    "version": 3
   },
   "file_extension": ".py",
   "mimetype": "text/x-python",
   "name": "python",
   "nbconvert_exporter": "python",
   "pygments_lexer": "ipython3",
   "version": "3.10.6"
  }
 },
 "nbformat": 4,
 "nbformat_minor": 5
}
