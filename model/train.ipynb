{
 "cells": [
  {
   "cell_type": "code",
   "execution_count": null,
   "id": "bba694b1",
   "metadata": {},
   "outputs": [
    {
     "name": "stdout",
     "output_type": "stream",
     "text": [
      "Độ chính xác: 0.8483228318276957\n",
      "              precision    recall  f1-score   support\n",
      "\n",
      "           0       0.92      0.84      0.88     59973\n",
      "           1       0.74      0.87      0.80     32236\n",
      "\n",
      "    accuracy                           0.85     92209\n",
      "   macro avg       0.83      0.85      0.84     92209\n",
      "weighted avg       0.86      0.85      0.85     92209\n",
      "\n"
     ]
    }
   ],
   "source": [
    "import pandas as pd\n",
    "from sklearn.model_selection import train_test_split\n",
    "from sklearn.preprocessing import LabelEncoder, StandardScaler\n",
    "from sklearn.linear_model import LogisticRegression\n",
    "from sklearn.metrics import accuracy_score, classification_report\n",
    "\n",
    "# 1. Đọc dữ liệu\n",
    "df = pd.read_csv(\"D:/vhproj\\Ton_IoT\\data\\Ton_IoT_Network.csv\")\n",
    "\n",
    "# 2. Chọn các cột đặc trưng số (hoặc encode)\n",
    "# Loại bỏ các cột không cần thiết (IP, DNS, SSL,...)\n",
    "drop_cols = [\n",
    "    'ts','src_ip','dst_ip','dns_query','ssl_subject','ssl_issuer',\n",
    "    'http_uri','http_user_agent','weird_name','weird_addl'\n",
    "]\n",
    "df = df.drop(columns=[c for c in drop_cols if c in df.columns])\n",
    "\n",
    "# 3. Encode các cột dạng chuỗi còn lại\n",
    "for col in df.select_dtypes(include='object').columns:\n",
    "    le = LabelEncoder()\n",
    "    df[col] = le.fit_transform(df[col].astype(str))\n",
    "\n",
    "# 4. Xác định đầu vào (X) và đầu ra (y)\n",
    "X = df.drop(columns=['label'])\n",
    "y = df['label']\n",
    "\n",
    "# 5. Chia train/test\n",
    "X_train, X_test, y_train, y_test = train_test_split(X, y, test_size=0.2, random_state=42)\n",
    "\n",
    "# 6. Chuẩn hóa dữ liệu\n",
    "scaler = StandardScaler()\n",
    "X_train = scaler.fit_transform(X_train)\n",
    "X_test = scaler.transform(X_test)\n",
    "\n",
    "# 7️⃣ Huấn luyện mô hình\n",
    "rf_model = RandomForestClassifier(\n",
    "    n_estimators=200,    # số cây\n",
    "    max_depth=None,      # có thể chỉnh nếu overfit\n",
    "    random_state=42,\n",
    "    n_jobs=-1\n",
    ")\n",
    "rf_model.fit(X_train, y_train)\n",
    "\n",
    "# 8️⃣ Dự đoán & đánh giá\n",
    "y_pred_rf = rf_model.predict(X_test)\n",
    "\n",
    "print(\"🎯 Kết quả Random Forest:\")\n",
    "print(\"Độ chính xác:\", accuracy_score(y_test, y_pred_rf))\n",
    "print(classification_report(y_test, y_pred_rf))\n"
   ]
  },
  {
   "cell_type": "code",
   "execution_count": null,
   "id": "0344089f",
   "metadata": {},
   "outputs": [
    {
     "name": "stdout",
     "output_type": "stream",
     "text": [
      "🎯 Kết quả Random Forest:\n",
      "Độ chính xác: 1.0\n",
      "              precision    recall  f1-score   support\n",
      "\n",
      "           0       1.00      1.00      1.00     59973\n",
      "           1       1.00      1.00      1.00     32236\n",
      "\n",
      "    accuracy                           1.00     92209\n",
      "   macro avg       1.00      1.00      1.00     92209\n",
      "weighted avg       1.00      1.00      1.00     92209\n",
      "\n"
     ]
    }
   ],
   "source": [
    "from sklearn.ensemble import RandomForestClassifier\n",
    "\n"
   ]
  },
  {
   "cell_type": "code",
   "execution_count": 5,
   "id": "0cd5d22f",
   "metadata": {},
   "outputs": [
    {
     "name": "stdout",
     "output_type": "stream",
     "text": [
      "⚡ Kết quả XGBoost:\n",
      "Độ chính xác: 1.0\n",
      "              precision    recall  f1-score   support\n",
      "\n",
      "           0       1.00      1.00      1.00     59973\n",
      "           1       1.00      1.00      1.00     32236\n",
      "\n",
      "    accuracy                           1.00     92209\n",
      "   macro avg       1.00      1.00      1.00     92209\n",
      "weighted avg       1.00      1.00      1.00     92209\n",
      "\n"
     ]
    }
   ],
   "source": [
    "from xgboost import XGBClassifier\n",
    "\n",
    "# 7️⃣ Huấn luyện mô hình XGBoost\n",
    "xgb_model = XGBClassifier(\n",
    "    n_estimators=300,\n",
    "    learning_rate=0.1,\n",
    "    max_depth=6,\n",
    "    subsample=0.8,\n",
    "    colsample_bytree=0.8,\n",
    "    random_state=42,\n",
    "    eval_metric='logloss',\n",
    "    n_jobs=-1\n",
    ")\n",
    "xgb_model.fit(X_train, y_train)\n",
    "\n",
    "# 8️⃣ Dự đoán & đánh giá\n",
    "y_pred_xgb = xgb_model.predict(X_test)\n",
    "\n",
    "print(\"⚡ Kết quả XGBoost:\")\n",
    "print(\"Độ chính xác:\", accuracy_score(y_test, y_pred_xgb))\n",
    "print(classification_report(y_test, y_pred_xgb))\n"
   ]
  }
 ],
 "metadata": {
  "kernelspec": {
   "display_name": "Python 3",
   "language": "python",
   "name": "python3"
  },
  "language_info": {
   "codemirror_mode": {
    "name": "ipython",
    "version": 3
   },
   "file_extension": ".py",
   "mimetype": "text/x-python",
   "name": "python",
   "nbconvert_exporter": "python",
   "pygments_lexer": "ipython3",
   "version": "3.10.6"
  }
 },
 "nbformat": 4,
 "nbformat_minor": 5
}
