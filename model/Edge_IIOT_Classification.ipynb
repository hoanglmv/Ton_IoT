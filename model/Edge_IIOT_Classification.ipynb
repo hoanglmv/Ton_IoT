{
 "cells": [
  {
   "cell_type": "code",
   "execution_count": 58,
   "id": "9ecc78f9",
   "metadata": {},
   "outputs": [],
   "source": [
    "import pandas as pd\n",
    "import numpy as np\n"
   ]
  },
  {
   "cell_type": "code",
   "execution_count": 59,
   "id": "04f8ec24",
   "metadata": {},
   "outputs": [
    {
     "name": "stdout",
     "output_type": "stream",
     "text": [
      "D:/vhproj/Ton_IoT\\data\\Edge-IIoTset\\For_Training\\DNN-EdgeIIoT-dataset.csv\n"
     ]
    }
   ],
   "source": [
    "import os\n",
    "\n",
    "root_dir = \"D:/vhproj/Ton_IoT\"\n",
    "datadir = \"data\\Edge-IIoTset\\For_Training\\DNN-EdgeIIoT-dataset.csv\"\n",
    "\n",
    "path = os.path.join(root_dir, datadir)\n",
    "\n",
    "print(path)\n"
   ]
  },
  {
   "cell_type": "code",
   "execution_count": 60,
   "id": "5b5e6150",
   "metadata": {},
   "outputs": [
    {
     "name": "stderr",
     "output_type": "stream",
     "text": [
      "C:\\Users\\firek\\AppData\\Local\\Temp\\ipykernel_13760\\2876518551.py:2: DtypeWarning: Columns (2,3,6,11,13,14,15,16,17,31,32,34,39,45,51,54,55) have mixed types. Specify dtype option on import or set low_memory=False.\n",
      "  df = pd.read_csv(path)\n"
     ]
    }
   ],
   "source": [
    "# Read data and cleaning\n",
    "df = pd.read_csv(path)\n",
    "df.replace('-', np.nan, inplace=True)\n",
    "for c in df.select_dtypes(include=['object']).columns:\n",
    "    df[c] = df[c].astype(str).str.strip()\n",
    "\n"
   ]
  },
  {
   "cell_type": "code",
   "execution_count": 61,
   "id": "a536203c",
   "metadata": {},
   "outputs": [
    {
     "name": "stdout",
     "output_type": "stream",
     "text": [
      "Index(['frame.time', 'ip.src_host', 'ip.dst_host', 'arp.dst.proto_ipv4',\n",
      "       'arp.opcode', 'arp.hw.size', 'arp.src.proto_ipv4', 'icmp.checksum',\n",
      "       'icmp.seq_le', 'icmp.transmit_timestamp', 'icmp.unused',\n",
      "       'http.file_data', 'http.content_length', 'http.request.uri.query',\n",
      "       'http.request.method', 'http.referer', 'http.request.full_uri',\n",
      "       'http.request.version', 'http.response', 'http.tls_port', 'tcp.ack',\n",
      "       'tcp.ack_raw', 'tcp.checksum', 'tcp.connection.fin',\n",
      "       'tcp.connection.rst', 'tcp.connection.syn', 'tcp.connection.synack',\n",
      "       'tcp.dstport', 'tcp.flags', 'tcp.flags.ack', 'tcp.len', 'tcp.options',\n",
      "       'tcp.payload', 'tcp.seq', 'tcp.srcport', 'udp.port', 'udp.stream',\n",
      "       'udp.time_delta', 'dns.qry.name', 'dns.qry.name.len', 'dns.qry.qu',\n",
      "       'dns.qry.type', 'dns.retransmission', 'dns.retransmit_request',\n",
      "       'dns.retransmit_request_in', 'mqtt.conack.flags',\n",
      "       'mqtt.conflag.cleansess', 'mqtt.conflags', 'mqtt.hdrflags', 'mqtt.len',\n",
      "       'mqtt.msg_decoded_as', 'mqtt.msg', 'mqtt.msgtype', 'mqtt.proto_len',\n",
      "       'mqtt.protoname', 'mqtt.topic', 'mqtt.topic_len', 'mqtt.ver',\n",
      "       'mbtcp.len', 'mbtcp.trans_id', 'mbtcp.unit_id', 'Attack_label',\n",
      "       'Attack_type'],\n",
      "      dtype='object')\n",
      "(2219201, 63)\n"
     ]
    }
   ],
   "source": [
    "print(df.columns)\n",
    "print(df.shape)\n"
   ]
  },
  {
   "cell_type": "code",
   "execution_count": 62,
   "id": "6a52065a",
   "metadata": {},
   "outputs": [
    {
     "name": "stdout",
     "output_type": "stream",
     "text": [
      "(2219201, 47)\n"
     ]
    }
   ],
   "source": [
    "drop_cols = [\n",
    "    # Địa chỉ & thời gian\n",
    "    'frame.time', 'ip.src_host', 'ip.dst_host',\n",
    "    'arp.dst.proto_ipv4', 'arp.src.proto_ipv4',\n",
    "    # HTTP raw/payload/text content\n",
    "    'http.file_data', 'http.referer', 'http.request.full_uri', 'http.request.uri.query',\n",
    "    \n",
    "    # TCP/UDP payload hoặc option \n",
    "    'tcp.payload', 'tcp.options',\n",
    "    \n",
    "    # MQTT text-based fields\n",
    "    'mqtt.msg', 'mqtt.topic', 'mqtt.msg_decoded_as', 'mqtt.protoname',\n",
    "\n",
    "    'Attack_label'  \n",
    "]\n",
    "df_cls = df.drop(columns=drop_cols, errors='ignore')\n",
    "print(df_cls.shape)\n",
    "\n"
   ]
  }
 ],
 "metadata": {
  "kernelspec": {
   "display_name": "Python 3",
   "language": "python",
   "name": "python3"
  },
  "language_info": {
   "name": "python",
   "version": "3.10.6"
  }
 },
 "nbformat": 4,
 "nbformat_minor": 5
}
